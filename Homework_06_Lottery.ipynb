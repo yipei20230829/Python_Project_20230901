{
 "cells": [
  {
   "cell_type": "markdown",
   "id": "fd5de6d2",
   "metadata": {},
   "source": [
    "# 今彩539"
   ]
  },
  {
   "cell_type": "markdown",
   "id": "5d72f0b7",
   "metadata": {},
   "source": [
    "### 分母：\n",
    "#### 所有中獎組合數=39C5=39!/(39!(39-5)!)=575757\n",
    "\n",
    "### 分子：\n",
    "#### 中獎組合數\n",
    "#### 頭獎（全部組合只有一組）5C1=1\n",
    "#### 二獎（猜中5個號碼中任意4個）5C4*(39-5)C1\n",
    "#### 三獎（猜中5個號碼中任意3個)5C3*(39-5)C2\n",
    "#### 肆獎5C2*34C3=17340\n",
    "#### 伍獎5C1*34C4=68680\n",
    "\n",
    "#### 計算所有組合之中獎機率=每組中獎組合數/所有組合數\n",
    "#### 頭獎5C1/575757=1/575757\n",
    "#### 二獎5C4*(39-5)C1/575757=170/575757\n",
    "#### 三獎（猜中5個號碼中任意3個)5C3*(39-5)C2/575757=4170\n",
    "#### 肆獎5C2*34C3/575757=17340/575757\n",
    "#### 伍獎5C1*34C4/575757=68680/575757"
   ]
  },
  {
   "cell_type": "code",
   "execution_count": 20,
   "id": "ea696816",
   "metadata": {},
   "outputs": [
    {
     "data": {
      "text/plain": [
       "575757.0"
      ]
     },
     "execution_count": 20,
     "metadata": {},
     "output_type": "execute_result"
    }
   ],
   "source": [
    "# scipy\n",
    "from scipy import special as sps\n",
    "#總組合數\n",
    "total_count =sps.comb(39, 5)\n",
    "total_count"
   ]
  },
  {
   "cell_type": "markdown",
   "id": "4376bbf1",
   "metadata": {},
   "source": [
    "## 頭獎"
   ]
  },
  {
   "cell_type": "code",
   "execution_count": 21,
   "id": "67930c6c",
   "metadata": {},
   "outputs": [
    {
     "data": {
      "text/plain": [
       "1.0"
      ]
     },
     "execution_count": 21,
     "metadata": {},
     "output_type": "execute_result"
    }
   ],
   "source": [
    "#中獎組合\n",
    "a_coun = sps.comb(5, 5)\n",
    "a_coun"
   ]
  },
  {
   "cell_type": "code",
   "execution_count": 22,
   "id": "43901319",
   "metadata": {},
   "outputs": [
    {
     "name": "stdout",
     "output_type": "stream",
     "text": [
      "中獎機率=0.00000174\n"
     ]
    }
   ],
   "source": [
    "#計算機率\n",
    "first_prob = sps.comb(5, 5)/total_count\n",
    "print(f'中獎機率={first_prob:.8f}')#.8f四捨五入"
   ]
  },
  {
   "cell_type": "markdown",
   "id": "aafc475c",
   "metadata": {},
   "source": [
    "## 二獎"
   ]
  },
  {
   "cell_type": "code",
   "execution_count": 23,
   "id": "f881d9c8",
   "metadata": {},
   "outputs": [
    {
     "data": {
      "text/plain": [
       "170.0"
      ]
     },
     "execution_count": 23,
     "metadata": {},
     "output_type": "execute_result"
    }
   ],
   "source": [
    "#中獎組合\n",
    "b_coun = sps.comb(5, 4)*sps.comb((39-5), 1)\n",
    "b_coun"
   ]
  },
  {
   "cell_type": "code",
   "execution_count": 24,
   "id": "fcbf44c9",
   "metadata": {},
   "outputs": [
    {
     "name": "stdout",
     "output_type": "stream",
     "text": [
      "中獎機率=0.00029526\n"
     ]
    }
   ],
   "source": [
    "#計算機率\n",
    "second_prob = sps.comb(5, 4)*sps.comb((39-5), 1)/total_count\n",
    "print(f'中獎機率={second_prob:.8f}')#.8f四捨五入"
   ]
  },
  {
   "cell_type": "markdown",
   "id": "e6b15b33",
   "metadata": {},
   "source": [
    "## 三獎"
   ]
  },
  {
   "cell_type": "code",
   "execution_count": 25,
   "id": "86a18ac7",
   "metadata": {},
   "outputs": [
    {
     "data": {
      "text/plain": [
       "5610.0"
      ]
     },
     "execution_count": 25,
     "metadata": {},
     "output_type": "execute_result"
    }
   ],
   "source": [
    "#中獎組合\n",
    "c_coun =sps.comb(5, 3)*sps.comb((39-5), 2)\n",
    "c_coun"
   ]
  },
  {
   "cell_type": "code",
   "execution_count": 26,
   "id": "4d4f2d3f",
   "metadata": {},
   "outputs": [
    {
     "name": "stdout",
     "output_type": "stream",
     "text": [
      "中獎機率=0.00974369\n"
     ]
    }
   ],
   "source": [
    "#計算機率\n",
    "third_prob = sps.comb(5, 3)*sps.comb((39-5), 2)/total_count\n",
    "print(f'中獎機率={third_prob:.8f}')#.8f四捨五入"
   ]
  },
  {
   "cell_type": "markdown",
   "id": "a76e4130",
   "metadata": {},
   "source": [
    "## 四獎"
   ]
  },
  {
   "cell_type": "code",
   "execution_count": 27,
   "id": "9edff252",
   "metadata": {},
   "outputs": [
    {
     "data": {
      "text/plain": [
       "59840.0"
      ]
     },
     "execution_count": 27,
     "metadata": {},
     "output_type": "execute_result"
    }
   ],
   "source": [
    "#中獎組合\n",
    "d_coun =sps.comb(5, 2)*sps.comb((39-5), 3)\n",
    "d_coun"
   ]
  },
  {
   "cell_type": "code",
   "execution_count": 28,
   "id": "38b24e89",
   "metadata": {},
   "outputs": [
    {
     "name": "stdout",
     "output_type": "stream",
     "text": [
      "中獎機率=0.10393274\n"
     ]
    }
   ],
   "source": [
    "#計算機率\n",
    "fourth_prob = sps.comb(5, 2)*sps.comb((39-5), 3)/total_count\n",
    "print(f'中獎機率={fourth_prob:.8f}')#.8f四捨五入"
   ]
  },
  {
   "cell_type": "code",
   "execution_count": 29,
   "id": "c3b06bc7",
   "metadata": {},
   "outputs": [
    {
     "data": {
      "text/plain": [
       "27.919764761870024"
      ]
     },
     "execution_count": 29,
     "metadata": {},
     "output_type": "execute_result"
    }
   ],
   "source": [
    "### 平均中獎金額=(頭獎金額 * 頭獎組數  + 二獎金額 * 二獎組數  + 三獎金額 * 三獎組數  + 四獎金額 * 四獎組數) / 全部組合數 \n",
    "average_return = (8000000 * a_coun + 20000 * b_coun + 300 * c_coun + 50 *d_coun) / total_count \n",
    "average_return"
   ]
  },
  {
   "cell_type": "code",
   "execution_count": 30,
   "id": "01453d1d",
   "metadata": {},
   "outputs": [
    {
     "name": "stdout",
     "output_type": "stream",
     "text": [
      "今彩539平均報酬率=-44.16047047625995%\n"
     ]
    }
   ],
   "source": [
    "print('今彩539平均報酬率={}%'.format(((average_return / 50) - 1) * 100))"
   ]
  }
 ],
 "metadata": {
  "kernelspec": {
   "display_name": "Python 3 (ipykernel)",
   "language": "python",
   "name": "python3"
  },
  "language_info": {
   "codemirror_mode": {
    "name": "ipython",
    "version": 3
   },
   "file_extension": ".py",
   "mimetype": "text/x-python",
   "name": "python",
   "nbconvert_exporter": "python",
   "pygments_lexer": "ipython3",
   "version": "3.11.2"
  }
 },
 "nbformat": 4,
 "nbformat_minor": 5
}
