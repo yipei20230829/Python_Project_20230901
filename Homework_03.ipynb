{
 "cells": [
  {
   "cell_type": "markdown",
   "id": "41a4675d",
   "metadata": {},
   "source": [
    "# 解下列聯立方程式"
   ]
  },
  {
   "cell_type": "markdown",
   "id": "e089e57d",
   "metadata": {},
   "source": [
    "### 1.\n",
    "$\\begin{equation}2x + y = 11 \\end{equation}$\n",
    "\n",
    "$\\begin{equation}3x - y = 9 \\end{equation}$"
   ]
  },
  {
   "cell_type": "markdown",
   "id": "0c48904f",
   "metadata": {},
   "source": [
    "## 使用NumPy解："
   ]
  },
  {
   "cell_type": "code",
   "execution_count": 1,
   "id": "4996d0d6",
   "metadata": {},
   "outputs": [
    {
     "name": "stdout",
     "output_type": "stream",
     "text": [
      "[4. 3.]\n"
     ]
    }
   ],
   "source": [
    "import numpy as np\n",
    "a = np.array([[2 , 1], \n",
    "              [3, -1]])\n",
    "b = np.array([11, 9])\n",
    "print(np.linalg.inv(a) @ b)"
   ]
  },
  {
   "cell_type": "markdown",
   "id": "8f1428e9",
   "metadata": {},
   "source": [
    "## 使用SymPy解："
   ]
  },
  {
   "cell_type": "code",
   "execution_count": 2,
   "id": "34998aee",
   "metadata": {},
   "outputs": [
    {
     "data": {
      "text/plain": [
       "{x: 4, y: 3}"
      ]
     },
     "execution_count": 2,
     "metadata": {},
     "output_type": "execute_result"
    }
   ],
   "source": [
    "from sympy.solvers import solve\n",
    "from sympy import Symbol\n",
    "#用sympfy的solve模組\n",
    "from sympy.core import sympify\n",
    "\n",
    "x = Symbol('x')\n",
    "y = Symbol('y')\n",
    "solve(sympify(\"[Eq(2*x + y , 11), Eq(3*x - y , 9)]\"))"
   ]
  },
  {
   "cell_type": "markdown",
   "id": "ba3cac63",
   "metadata": {},
   "source": [
    "### 2.\n",
    "$\\begin{equation}\\frac{x - 1}{y + 3} = \\frac{1}{9}\\end{equation}$\n",
    "\n",
    "$\\begin{equation}\\frac{x + 3}{y - 5}= 5 \\end{equation}$"
   ]
  },
  {
   "cell_type": "markdown",
   "id": "a13d2a5b",
   "metadata": {},
   "source": [
    "## 使用NumPy解："
   ]
  },
  {
   "cell_type": "code",
   "execution_count": 3,
   "id": "3e43ab70",
   "metadata": {},
   "outputs": [
    {
     "name": "stdout",
     "output_type": "stream",
     "text": [
      "[2. 6.]\n"
     ]
    }
   ],
   "source": [
    "a = np.array([[9 , -1], \n",
    "              [1 , -5]])\n",
    "b = np.array([12, -28])\n",
    "print(np.linalg.inv(a) @ b)"
   ]
  },
  {
   "cell_type": "markdown",
   "id": "d1754918",
   "metadata": {},
   "source": [
    "## 使用SymPy解："
   ]
  },
  {
   "cell_type": "code",
   "execution_count": 4,
   "id": "ccb5edef",
   "metadata": {},
   "outputs": [
    {
     "data": {
      "text/plain": [
       "{x: 2, y: 6}"
      ]
     },
     "execution_count": 4,
     "metadata": {},
     "output_type": "execute_result"
    }
   ],
   "source": [
    "x = Symbol('x')\n",
    "y = Symbol('y')\n",
    "solve(sympify(\"[Eq((x-1) / (y+3), 1/9), Eq((x+3)/(y-5), 5)]\"))"
   ]
  },
  {
   "cell_type": "markdown",
   "id": "1f2aa293",
   "metadata": {},
   "source": [
    "### 3.\n",
    "$\\begin{equation}4x + 3y = 4 \\end{equation}$\n",
    "\n",
    "$\\begin{equation}2x + 2y - 2z = 0 \\end{equation}$\n",
    "\n",
    "$\\begin{equation}5x + 3y + z = -2 \\end{equation}$"
   ]
  },
  {
   "cell_type": "markdown",
   "id": "ca7e00b9",
   "metadata": {},
   "source": [
    "## 使用NumPy解："
   ]
  },
  {
   "cell_type": "code",
   "execution_count": 5,
   "id": "bc5f84b6",
   "metadata": {},
   "outputs": [
    {
     "name": "stdout",
     "output_type": "stream",
     "text": [
      "[-11.  16.   5.]\n"
     ]
    }
   ],
   "source": [
    "a = np.array([[4 , 3 , 0], \n",
    "              [2 , 2 , -2],\n",
    "              [5 , 3 , 1]])\n",
    "b = np.array([4 , 0 , -2])\n",
    "print(np.linalg.inv(a) @ b)"
   ]
  },
  {
   "cell_type": "markdown",
   "id": "4ee1ad35",
   "metadata": {},
   "source": [
    "## 使用SymPy解："
   ]
  },
  {
   "cell_type": "code",
   "execution_count": 6,
   "id": "a49ebc8b",
   "metadata": {},
   "outputs": [
    {
     "data": {
      "text/plain": [
       "{x: -11, y: 16, z: 5}"
      ]
     },
     "execution_count": 6,
     "metadata": {},
     "output_type": "execute_result"
    }
   ],
   "source": [
    "x = Symbol('x')\n",
    "y = Symbol('y')\n",
    "z = Symbol('z')\n",
    "solve(sympify(\"[Eq(4*x+3*y+0*z,4),Eq(2*x+2*y-2*z,0),Eq(5*x+3*y+z,(-2))]\"))"
   ]
  },
  {
   "cell_type": "code",
   "execution_count": 7,
   "id": "cda6dab4",
   "metadata": {},
   "outputs": [
    {
     "name": "stdout",
     "output_type": "stream",
     "text": [
      "[NbConvertApp] Converting notebook Homework_03.ipynb to script\n",
      "[NbConvertApp] Writing 1491 bytes to Homework_03.py\n"
     ]
    }
   ],
   "source": [
    "!jupyter nbconvert --to script Homework_03.ipynb"
   ]
  }
 ],
 "metadata": {
  "kernelspec": {
   "display_name": "Python 3 (ipykernel)",
   "language": "python",
   "name": "python3"
  },
  "language_info": {
   "codemirror_mode": {
    "name": "ipython",
    "version": 3
   },
   "file_extension": ".py",
   "mimetype": "text/x-python",
   "name": "python",
   "nbconvert_exporter": "python",
   "pygments_lexer": "ipython3",
   "version": "3.11.2"
  }
 },
 "nbformat": 4,
 "nbformat_minor": 5
}
